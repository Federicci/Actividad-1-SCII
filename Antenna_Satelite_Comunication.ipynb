{
  "nbformat": 4,
  "nbformat_minor": 0,
  "metadata": {
    "colab": {
      "name": "Antenna-Satelite_Comunication",
      "provenance": [],
      "collapsed_sections": [],
      "authorship_tag": "ABX9TyMjKjE+P9acUoMYpywoK/9n",
      "include_colab_link": true
    },
    "kernelspec": {
      "name": "python3",
      "display_name": "Python 3"
    },
    "language_info": {
      "name": "python"
    }
  },
  "cells": [
    {
      "cell_type": "markdown",
      "metadata": {
        "id": "view-in-github",
        "colab_type": "text"
      },
      "source": [
        "<a href=\"https://colab.research.google.com/github/Federicci/Actividad-1-SCII/blob/main/Antenna_Satelite_Comunication.ipynb\" target=\"_parent\"><img src=\"https://colab.research.google.com/assets/colab-badge.svg\" alt=\"Open In Colab\"/></a>"
      ]
    },
    {
      "cell_type": "markdown",
      "source": [
        "### **Gym env skeleton**"
      ],
      "metadata": {
        "id": "9moTJGihgpgP"
      }
    },
    {
      "cell_type": "code",
      "execution_count": null,
      "metadata": {
        "id": "Qu4dCxhnMD4t"
      },
      "outputs": [],
      "source": [
        "import numpy as np\n",
        "import gym\n",
        "from gym import spaces\n",
        "\n",
        "class Antenna-Satelite_Com(gym.Env);\n",
        "    metdata = {'render.modes' : ['console']}\n",
        "    #Defino constantes\n",
        "    Acc0 = 0\n",
        "    Acc1 = 1\n",
        "    Acc2 = 3\n",
        "    Acc3 = 3\n",
        "    Acc4 = 4\n",
        "    Acc5 = 5\n",
        "    Acc6 = 6\n",
        "    Acc7 = 7\n",
        "    Acc8 = 8\n",
        "    Acc9 = 9\n",
        "    Acc10 = 10\n",
        "    Acc11 = 11\n",
        "\n",
        "    def __init__(self,Sat_positionX,Sat_positionY,distance,Ant_positionX,Ant_positionY):\n",
        "      #Defino los parametros que van a ingresar\n",
        "      super(Antenna-Satelite_Com,self).__init__() \n",
        "      #Inicializo la posicion del satelite\n",
        "      self.Sat_positionX = Sat_positionX\n",
        "      self.Sat_PositionY = Sat_positionY\n",
        "      #Inicializo distancia\n",
        "      self.distance = distance\n",
        "      #Inicializo posición de antena\n",
        "      self.Ant_positionX = Ant_positionX\n",
        "      self.Ant_positionY = And_positionY\n",
        "      self.pasada = 0\n",
        "\n",
        "      #Defino accciones y espacio de observacion\n",
        "      n_actions = 12\n",
        "      self.action_space = spaces.Discrete(n_actions)\n",
        "      self.observation_space = spaces.Box(self.Sat_positionX,self.Sat_PositionY,self.distance, self.Ant_positionX,self.Ant_positionY)\n",
        "\n",
        "    def reset(self):\n",
        "      #Inicializo la posicion del satelite\n",
        "      self.Sat_positionX = Sat_positionX\n",
        "      self.Sat_PositionY = Sat_positionY\n",
        "      #Inicializo distancia\n",
        "      self.distance = distance\n",
        "      #Inicializo posición de antena\n",
        "      self.Ant_positionX = Ant_positionX\n",
        "      self.Ant_positionY = And_positionY\n",
        "      #Vuelvo a cero la cantidad de pasadas\n",
        "      self.pasadas = 0\n",
        "      return np.array([self.Sat_positionX].astype(np.float32))\n",
        "      return np.array([self.Sat_positionY].astype(np.float32))\n",
        "      return np.array([self.distance].astype(np.float32))\n",
        "      return np.array([self.Ant_positionX].astype(np.float32))\n",
        "      return np.array([self.Ant_positionY].astype(np.float32))\n",
        "      return np.array([self.pasadas].astype(np.intc32))\n",
        "\n",
        "    def step(self,action):            # Ver si no me conviene definir la posicion de \n",
        "    self.pasadas += 1                 # la antena com una cuadricula\n",
        "    # n += 1 #incremento el 1 el indice del array de posicion de satelite\n",
        "      if action == self.Acc0;         \n",
        "        self.Ant_positionX = #definir la accion\n",
        "        self.Ant_positionY =\n",
        "        #.... definir todas las acciones\n",
        "      elif action == self.Acc1;\n",
        "        self.Ant_positionX = #definir la accion\n",
        "        self.Ant_positionY =\n",
        "      elif action == self.Acc2;\n",
        "        self.Ant_positionX = #definir la accion\n",
        "        self.Ant_positionY =\n",
        "      elif action == self.Acc3;\n",
        "        self.Ant_positionX = #definir la accion\n",
        "        self.Ant_positionY =\n",
        "      elif action == self.Acc4;\n",
        "        self.Ant_positionX = #definir la accion\n",
        "        self.Ant_positionY =\n",
        "      elif action == self.Acc5;\n",
        "        self.Ant_positionX = #definir la accion\n",
        "        self.Ant_positionY =\n",
        "      elif action == self.Acc6;\n",
        "        self.Ant_positionX = #definir la accion\n",
        "        self.Ant_positionY =\n",
        "      elif action == self.Acc7;\n",
        "        self.Ant_positionX = #definir la accion\n",
        "        self.Ant_positionY =\n",
        "      elif action == self.Acc8;\n",
        "        self.Ant_positionX = #definir la accion\n",
        "        self.Ant_positionY =\n",
        "      elif action == self.Acc9;\n",
        "        self.Ant_positionX = #definir la accion\n",
        "        self.Ant_positionY =\n",
        "      elif action == self.Acc10;\n",
        "        self.Ant_positionX = #definir la accion\n",
        "        self.Ant_positionY =\n",
        "      elif action == self.Acc11;\n",
        "        self.Ant_positionX = #definir la accion\n",
        "        self.Ant_positionY =\n",
        "      else:\n",
        "        raise VauleError(\"Recived invalid acction={} wich is no part of the action space\".format(action))\n",
        "        \n",
        "      # Limites para la posicion de la antena\n",
        "      # NECESITO DEFINIR MIS LIMITES\n",
        "      self.Ant_positionX = np.clip(self.Ant_positionX, 0, algo)\n",
        "      self.Ant_positionY = np.clip(self.Ant_positionY, 0, algo)\n",
        "\n",
        "      # Paso 12 veces el satelite?\n",
        "      done = bool(self.pasadas == 12)\n",
        "\n",
        "      reward  = -1 #La idea es que por cada movimiento de antena pierda un punto pero\n",
        "      # que por cada buena trsnsferencia de datos gane 1\n",
        "\n",
        "      # Informacion\n",
        "      info = {self.Sat_positionX, Sat_positionY, self.pasadas, self.distance}\n",
        "\n",
        "     return np.array([self.Ant_positionX]).astype(np.float32), np.array([self.Ant_positionY]).astype(np.float32), reward, done, info     \n",
        "  \n",
        "  def close(self):\n",
        "    pass\n",
        "\n",
        "\n"
      ]
    },
    {
      "cell_type": "markdown",
      "source": [
        "## **Enviroment validation**"
      ],
      "metadata": {
        "id": "poKjrSd2hSIh"
      }
    },
    {
      "cell_type": "code",
      "source": [
        "from stable_baselines3.common.env_checker import check_env"
      ],
      "metadata": {
        "id": "5HAzugz7hZhr"
      },
      "execution_count": null,
      "outputs": []
    },
    {
      "cell_type": "code",
      "source": [
        "env = Antenna-Satelite_Com()\n",
        "# If the environment don't follow the interface, an error will be thrown\n",
        "check_env(env, warn=True)"
      ],
      "metadata": {
        "id": "baiVJJYWhjMm"
      },
      "execution_count": null,
      "outputs": []
    },
    {
      "cell_type": "markdown",
      "source": [
        "## **Enviroment test**"
      ],
      "metadata": {
        "id": "cs9J910ShrUU"
      }
    },
    {
      "cell_type": "code",
      "source": [
        "Sat_positionX = \n",
        "Sat_PositionY = \n",
        "distance = \n",
        "Ant_positionX = \n",
        "Ant_positionY = \n",
        "\n",
        "env = Antenna-Santelite_Com(Sat_positionX,Sat_positionY,distance,Ant_positionX,Ant_positionY)\n",
        "\n",
        "obs = env.reset()\n",
        "env.render()\n",
        "\n",
        "print(env.observation_space)\n",
        "print(env.action_space)\n",
        "print(env.action_space.sample())\n",
        "\n",
        "Action = Acc0\n",
        "# Hardcoded best agent: always go left!\n",
        "n_steps = 20\n",
        "for step in range(n_steps):\n",
        "  print(\"Step {}\".format(step + 1))\n",
        "  obs, reward, done, info = env.step(Action)\n",
        "  print('obs=', obs, 'reward=', reward, 'done=', done)\n",
        "  env.render()\n",
        "  if done:\n",
        "    print(\"Goal reached!\", \"reward=\", reward)\n",
        "    break"
      ],
      "metadata": {
        "id": "kuyvR6xqhwj2"
      },
      "execution_count": null,
      "outputs": []
    }
  ]
}