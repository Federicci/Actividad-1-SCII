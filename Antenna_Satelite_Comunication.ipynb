{
  "nbformat": 4,
  "nbformat_minor": 0,
  "metadata": {
    "colab": {
      "name": "Antenna-Satelite_Comunication",
      "provenance": [],
      "authorship_tag": "ABX9TyN76N9FkkpcprVI3UFN959+",
      "include_colab_link": true
    },
    "kernelspec": {
      "name": "python3",
      "display_name": "Python 3"
    },
    "language_info": {
      "name": "python"
    }
  },
  "cells": [
    {
      "cell_type": "markdown",
      "metadata": {
        "id": "view-in-github",
        "colab_type": "text"
      },
      "source": [
        "<a href=\"https://colab.research.google.com/github/Federicci/Actividad-1-SCII/blob/main/Antenna_Satelite_Comunication.ipynb\" target=\"_parent\"><img src=\"https://colab.research.google.com/assets/colab-badge.svg\" alt=\"Open In Colab\"/></a>"
      ]
    },
    {
      "cell_type": "code",
      "execution_count": null,
      "metadata": {
        "id": "Qu4dCxhnMD4t"
      },
      "outputs": [],
      "source": [
        "class Antenna-Satelite_Com(gym.Env);\n",
        "    metdata = {'render.modes' : ['console']}\n",
        "    #Defino constantes\n",
        "    Acc0 = 0\n",
        "    Acc1 = 1\n",
        "    Acc2 = 3\n",
        "    Acc3 = 3\n",
        "    Acc4 = 4\n",
        "    Acc5 = 5\n",
        "    Acc6 = 6\n",
        "    Acc7 = 7\n",
        "    Acc8 = 8\n",
        "    Acc9 = 9\n",
        "    Acc10 = 10\n",
        "    Acc11 = 11\n",
        "\n",
        "    def __init__(self,Sat_positionX,Sat_positionY,distance,Ant_positionX,Ant_positionY):\n",
        "      #Defino los parametros que van a ingresar\n",
        "      super(Antenna-Satelite_Com,self).__init__()\n",
        "      #Inicializo la posicion del satelite\n",
        "      self.Sat_positionX = Sat_positionX\n",
        "      self.Sat_PositionY = Sat_positionY\n",
        "      #Inicializo distancia\n",
        "      self.distance = distance\n",
        "      #Inicializo posición de antena\n",
        "      self.Ant_positionX = Ant_positionX\n",
        "      self.Ant_positionY = And_positionY\n",
        "\n",
        "      #Defino accciones y espacio de observacion\n",
        "      n_actions = 12\n",
        "      self.action_space = spaces.Discrete(n_actions)\n",
        "      self.observation_space = spaces.Bos(self.Sat_positionX,self.Sat_PositionY,self.distance, self.Ant_positionX,self.Ant_positionY)\n",
        "\n",
        "    def reset(self):\n",
        "      #Inicializo la posicion del satelite\n",
        "      self.Sat_positionX = Sat_positionX\n",
        "      self.Sat_PositionY = Sat_positionY\n",
        "      #Inicializo distancia\n",
        "      self.distance = distance\n",
        "      #Inicializo posición de antena\n",
        "      self.Ant_positionX = Ant_positionX\n",
        "      self.Ant_positionY = And_positionY\n",
        "      return np.array([self.Sat_positionX].astype(np.float32))\n",
        "      return np.array([self.Sat_positionY].astype(np.float32))\n",
        "      return np.array([self.distance].astype(np.float32))\n",
        "      return np.array([self.Ant_positionX].astype(np.float32))\n",
        "      return np.array([self.Ant_positionY].astype(np.float32))\n",
        "\n",
        "    def step(self,action):\n",
        "      if action == self.Acc0;\n",
        "        self.Ant_positionX = #definir la accion\n",
        "        #.... definir todas las acciones\n",
        "        raise VauleError(\"Recived invalid acction={} wich is no part of the action space\".format(action))\n",
        "        \n",
        "\n"
      ]
    }
  ]
}